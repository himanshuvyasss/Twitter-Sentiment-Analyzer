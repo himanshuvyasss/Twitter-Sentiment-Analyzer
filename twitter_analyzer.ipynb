{
 "cells": [
  {
   "cell_type": "code",
   "execution_count": 1,
   "id": "ca03d3e4",
   "metadata": {},
   "outputs": [],
   "source": [
    "from textblob import TextBlob\n",
    "import tweepy\n",
    "import sys\n",
    "import numpy as np\n",
    "import matplotlib.pyplot as plt\n",
    "import pandas as pd\n",
    "import tkinter as tk\n",
    "from tkinter import simpledialog"
   ]
  },
  {
   "cell_type": "code",
   "execution_count": 2,
   "id": "3a6b6b8f",
   "metadata": {},
   "outputs": [],
   "source": [
    "ROOT = tk.Tk()\n",
    "\n",
    "ROOT.withdraw()\n",
    "\n",
    "topicc = simpledialog.askstring(title=\"find the polarity\",\n",
    "                                  prompt=\"Topic :\")"
   ]
  },
  {
   "attachments": {
    "Capture1.PNG": {
     "image/png": "[encoded data removed]"
    }
   },
   "cell_type": "markdown",
   "id": "d746a8ef",
   "metadata": {},
   "source": [
    "![Capture1.PNG](attachment:Capture1.PNG)"
   ]
  },
  {
   "cell_type": "code",
   "execution_count": 3,
   "id": "4f862abf",
   "metadata": {},
   "outputs": [],
   "source": [
    "api_key=\"gICXQZhWQmipvPfedRgh8L8oE\"\n",
    "secret_key=\"irXRsXDdhDMqi02SzKMujLsHROT4vMJMuQWkwI23hSjQKWNx6T\"\n",
    "access_token=\"1137431215642796032-g88ONTeH8YaTooetbthksRnT3VuptF\"\n",
    "secret_acces_token=\"e0ERt7zSj5xf9YjYKp1RfPdG7ypGexQ2XNY1B5HQazGyK\"\n",
    "\n",
    "auth_handler=tweepy.OAuthHandler(consumer_key=api_key, consumer_secret=secret_key)\n",
    "auth_handler.set_access_token(access_token, secret_acces_token)\n",
    "\n",
    "api=tweepy.API(auth_handler)"
   ]
  },
  {
   "cell_type": "code",
   "execution_count": 4,
   "id": "bee1a8d2",
   "metadata": {},
   "outputs": [],
   "source": [
    "search_term=topicc\n",
    "tweet_amont=simpledialog.askinteger(title=\"Number of tweets to scroll through\",\n",
    "                                  prompt=\"your answer in inter form:\")\n",
    "\n",
    "tweets=tweepy.Cursor(api.search,q=search_term,lang='en').items(tweet_amont)"
   ]
  },
  {
   "attachments": {
    "Capture2.PNG": {
     "image/png": "[encoded data removed]"
    }
   },
   "cell_type": "markdown",
   "id": "9ffad998",
   "metadata": {},
   "source": [
    "![Capture2.PNG](attachment:Capture2.PNG)"
   ]
  },
  {
   "cell_type": "code",
   "execution_count": 5,
   "id": "f1563b39",
   "metadata": {},
   "outputs": [],
   "source": [
    "polarity=0\n",
    "positive=0\n",
    "negative=0\n",
    "neutral=0"
   ]
  },
  {
   "cell_type": "code",
   "execution_count": 6,
   "id": "a379112a",
   "metadata": {},
   "outputs": [],
   "source": [
    "for tweet in tweets:\n",
    "    f_text=tweet.text.replace(\"RT\",'')\n",
    "    if f_text.startswith('  @'):\n",
    "        pos=f_text.index(\":\")\n",
    "        f_text=f_text[pos+2:]\n",
    "    if f_text.startswith('@'):\n",
    "        pos = f_text.index(' ')\n",
    "        f_text = f_text[pos+2:]\n",
    "    analysis = TextBlob(f_text)\n",
    "    tweet_polarity=analysis.polarity\n",
    "    if tweet_polarity>0:\n",
    "        positive+=1\n",
    "    elif tweet_polarity<0:\n",
    "        negative+=1\n",
    "    else:\n",
    "         neutral+=1    \n",
    "    polarity += analysis.polarity"
   ]
  },
  {
   "cell_type": "code",
   "execution_count": 7,
   "id": "4cb4f675",
   "metadata": {},
   "outputs": [
    {
     "name": "stdout",
     "output_type": "stream",
     "text": [
      "11.060444173881676\n",
      "Amount of positive tweets: 72\n",
      "Amount of negative tweets: 40\n",
      "Amount of netural tweets: 88\n"
     ]
    }
   ],
   "source": [
    "print(polarity)\n",
    "print(\"Amount of positive tweets:\",positive)\n",
    "print(\"Amount of negative tweets:\",negative)\n",
    "print(\"Amount of netural tweets:\",neutral)"
   ]
  },
  {
   "cell_type": "code",
   "execution_count": 8,
   "id": "cdbb29fd",
   "metadata": {},
   "outputs": [],
   "source": [
    "data=[positive,negative,neutral]\n",
    "label=['positive','negative','neutral']"
   ]
  },
  {
   "cell_type": "code",
   "execution_count": 9,
   "id": "e8c430ca",
   "metadata": {},
   "outputs": [
    {
     "data": {
      "image/png": "[encoded data removed]",
      "text/plain": [
       "<Figure size 432x288 with 1 Axes>"
      ]
     },
     "metadata": {},
     "output_type": "display_data"
    }
   ],
   "source": [
    "plt.pie(data,labels=label)\n",
    "plt.title(topicc)\n",
    "plt.show()"
   ]
  },
  {
   "cell_type": "code",
   "execution_count": 10,
   "id": "f65aa475",
   "metadata": {},
   "outputs": [
    {
     "data": {
      "image/png": "[encoded data removed]",
      "text/plain": [
       "<Figure size 432x288 with 1 Axes>"
      ]
     },
     "metadata": {
      "needs_background": "light"
     },
     "output_type": "display_data"
    }
   ],
   "source": [
    "plt.bar(label,data)\n",
    "plt.title(topicc)\n",
    "plt.xlabel(\"Number of tweets\")\n",
    "plt.show()"
   ]
  },
  {
   "cell_type": "code",
   "execution_count": null,
   "id": "f64488ca",
   "metadata": {},
   "outputs": [],
   "source": []
  }
 ],
 "metadata": {
  "kernelspec": {
   "display_name": "Python 3",
   "language": "python",
   "name": "python3"
  },
  "language_info": {
   "codemirror_mode": {
    "name": "ipython",
    "version": 3
   },
   "file_extension": ".py",
   "mimetype": "text/x-python",
   "name": "python",
   "nbconvert_exporter": "python",
   "pygments_lexer": "ipython3",
   "version": "3.8.8"
  }
 },
 "nbformat": 4,
 "nbformat_minor": 5
}
